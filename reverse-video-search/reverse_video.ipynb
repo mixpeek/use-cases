{
 "cells": [
  {
   "cell_type": "markdown",
   "id": "c62c12ad-e3af-4709-a11e-559a339a9eb8",
   "metadata": {},
   "source": [
    "# Reverse Video Search with Mixpeek and MongoDB\n",
    "This notebook demonstrates how to process a video, embed video chunks, and perform a reverse video search using Mixpeek API and MongoDB.\n",
    "\n",
    "Tutorial: https://learn.mixpeek.com/reverse-video-search/"
   ]
  },
  {
   "cell_type": "code",
   "execution_count": null,
   "id": "3eade92a-f6c0-4cac-b838-f607f262ac64",
   "metadata": {},
   "outputs": [],
   "source": [
    "!pip install mixpeek pymongo"
   ]
  },
  {
   "cell_type": "code",
   "execution_count": null,
   "id": "ccd9328e-b4fa-4576-8825-c8f3c12a1ad2",
   "metadata": {},
   "outputs": [],
   "source": [
    "# Import necessary libraries\n",
    "from mixpeek import Mixpeek\n",
    "from pymongo import MongoClient"
   ]
  },
  {
   "cell_type": "code",
   "execution_count": null,
   "id": "56865067-3774-4fa2-b2f0-845951275d37",
   "metadata": {},
   "outputs": [],
   "source": [
    "# Initialize Mixpeek client and MongoDB collection\n",
    "\n",
    "api_key = ''\n",
    "mongo_uri = ''\n",
    "db_name = 'demos'\n",
    "collection_name = 'reverse_video_search'\n",
    "\n",
    "mixpeek = Mixpeek(api_key)\n",
    "collection = MongoClient(mongo_uri)[db_name][collection_name]"
   ]
  },
  {
   "cell_type": "code",
   "execution_count": null,
   "id": "02ecea63-1e24-4b5a-be83-b8e36ef8bed9",
   "metadata": {},
   "outputs": [],
   "source": [
    "# Process video\n",
    "video_index_url = 'https://mixpeek-public-demo.s3.us-east-2.amazonaws.com/media-analysis/The+Third+Man++Official+Trailer.mp4'\n",
    "\n",
    "processed_videos = mixpeek.tools.video.process(\n",
    "    url=video_index_url,\n",
    "    frame_interval=20,\n",
    "    resolution=[720, 1280],\n",
    "    return_base64=True\n",
    ")"
   ]
  },
  {
   "cell_type": "code",
   "execution_count": null,
   "id": "5a5bfc5e-d1f8-437d-bc8a-4e03dece7676",
   "metadata": {},
   "outputs": [],
   "source": [
    "# Embed video chunks\n",
    "\n",
    "for index, video in enumerate(processed_videos):\n",
    "    print(f\"embedding video chunk: {index}\")\n",
    "    response = mixpeek.embed.video(\n",
    "        model_id=\"mixpeek/vuse-generic-v1\",\n",
    "        input=video['base64_string'],\n",
    "        input_type=\"base64\"\n",
    "    )\n",
    "    obj = {\n",
    "        \"start_time\": video['start_time'],\n",
    "        \"end_time\": video['end_time'],\n",
    "        \"embedding\": response['embedding'],\n",
    "        \"file_url\": video_index_url\n",
    "    }\n",
    "    collection.insert_one(obj)"
   ]
  },
  {
   "cell_type": "code",
   "execution_count": null,
   "id": "954c812a-3f2c-46d8-82c7-a6b8ea158450",
   "metadata": {},
   "outputs": [],
   "source": [
    "# Perform a reverse video search and display results\n",
    "\n",
    "response = mixpeek.embed.video(\n",
    "    model_id=\"mixpeek/vuse-generic-v1\",\n",
    "    input=\"https://mixpeek-public-demo.s3.us-east-2.amazonaws.com/media-analysis/video_queries/exiting_sewer.mp4\",\n",
    "    input_type=\"url\"\n",
    ")\n",
    "\n",
    "query = [\n",
    "    {\n",
    "        \"$vectorSearch\": {\n",
    "            \"index\": \"vector_index\",\n",
    "            \"path\": \"embedding\",\n",
    "            \"queryVector\": response['embedding'],\n",
    "            \"numCandidates\": 10,\n",
    "            \"limit\": 3\n",
    "        }\n",
    "    },\n",
    "    {\n",
    "        \"$project\": {\n",
    "            \"embedding\": 0\n",
    "        }\n",
    "    }\n",
    "]\n",
    "\n",
    "search_results = list(collection.aggregate(query))\n",
    "search_results"
   ]
  }
 ],
 "metadata": {
  "kernelspec": {
   "display_name": "Python (myenv)",
   "language": "python",
   "name": "myenv"
  },
  "language_info": {
   "codemirror_mode": {
    "name": "ipython",
    "version": 3
   },
   "file_extension": ".py",
   "mimetype": "text/x-python",
   "name": "python",
   "nbconvert_exporter": "python",
   "pygments_lexer": "ipython3",
   "version": "3.11.9"
  }
 },
 "nbformat": 4,
 "nbformat_minor": 5
}
