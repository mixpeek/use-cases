{
 "cells": [
  {
   "cell_type": "markdown",
   "id": "13218941",
   "metadata": {},
   "source": [
    "### convert a video into 30 second chunk audio files saved as timestamp ranges"
   ]
  },
  {
   "cell_type": "code",
   "execution_count": null,
   "id": "247b5f13",
   "metadata": {},
   "outputs": [],
   "source": [
    "# Import necessary modules\n",
    "import os\n",
    "from datetime import timedelta\n",
    "\n",
    "from moviepy.editor import VideoFileClip\n",
    "from pydub import AudioSegment\n",
    "from pydub.silence import split_on_silence\n",
    "\n",
    "# Open the video file and extract the audio\n",
    "video = VideoFileClip(\"video.mp4\")\n",
    "audio = video.audio\n",
    "\n",
    "# Save the audio to a temporary file\n",
    "temp_file = \"temp.wav\"\n",
    "audio.write_audiofile(temp_file)\n",
    "\n",
    "# Load the audio file using pydub\n",
    "sound = AudioSegment.from_wav(temp_file)\n",
    "\n",
    "# Split the audio into 30-second chunks based on silence\n",
    "chunks = split_on_silence(\n",
    "    sound,\n",
    "    min_silence_len=500,\n",
    "    silence_thresh=-16,\n",
    "    keep_silence=500,\n",
    "    seek_step=1\n",
    ")\n",
    "\n",
    "# Save each chunk as a separate audio file with the timestamp range in the filename\n",
    "for i, chunk in enumerate(chunks):\n",
    "    # Calculate the start and end times for the chunk\n",
    "    start = timedelta(milliseconds=chunk.start_time)\n",
    "    end = timedelta(milliseconds=chunk.end_time)\n",
    "\n",
    "    # Format the start and end times as strings\n",
    "    start_str = start.strftime(\"%H-%M-%S-%f\")[:-3]\n",
    "    end_str = end.strftime(\"%H-%M-%S-%f\")[:-3]\n",
    "\n",
    "    # Save the chunk as an audio file with the timestamp range in the filename\n",
    "    chunk.export(f\"audio_{start_str}_{end_str}.mp3\", format=\"mp3\")\n",
    "\n",
    "# Clean up the temporary file\n",
    "os.remove(temp_file)\n"
   ]
  },
  {
   "cell_type": "markdown",
   "id": "0fbae64c",
   "metadata": {},
   "source": [
    "### iterate a directory of audio files and transcribes each one saving to a text file"
   ]
  },
  {
   "cell_type": "code",
   "execution_count": null,
   "id": "b5afb2a1",
   "metadata": {},
   "outputs": [],
   "source": [
    "import os\n",
    "\n",
    "from moviepy.editor import AudioFileClip\n",
    "\n",
    "# Define the directory containing the audio files\n",
    "audio_dir = \"audio\"\n",
    "\n",
    "# Iterate over the audio files in the directory\n",
    "for filename in os.listdir(audio_dir):\n",
    "    # Check if the file is an audio file\n",
    "    if not filename.endswith(\".mp3\"):\n",
    "        continue\n",
    "\n",
    "    # Construct the full path to the audio file\n",
    "    filepath = os.path.join(audio_dir, filename)\n",
    "\n",
    "    # Open the audio file using moviepy\n",
    "    audio = AudioFileClip(filepath)\n",
    "\n",
    "    # Transcribe the audio using your chosen transcription service\n",
    "    transcript = transcribe_audio_file(audio)\n",
    "\n",
    "    # Save the transcript to a text file\n",
    "    output_file = os.path.splitext(filepath)[0] + \".txt\"\n",
    "    with open(output_file, \"w\") as f:\n",
    "        f.write(transcript)"
   ]
  },
  {
   "cell_type": "markdown",
   "id": "101ccea5",
   "metadata": {},
   "source": [
    "### Run each segment through an embedding model"
   ]
  },
  {
   "cell_type": "code",
   "execution_count": null,
   "id": "f8c43dbe",
   "metadata": {},
   "outputs": [],
   "source": [
    "model = SentenceTransformer('sentence-transformers/all-MiniLM-L6-v2')\n",
    "\n",
    "for transcript in transcripts:\n",
    "    vector = model.encode(transcript)"
   ]
  },
  {
   "cell_type": "markdown",
   "id": "f29b2951",
   "metadata": {},
   "source": [
    "### Store each segment into a vector search engine"
   ]
  },
  {
   "cell_type": "code",
   "execution_count": null,
   "id": "d18bbc9e",
   "metadata": {},
   "outputs": [],
   "source": [
    "import pymongo\n",
    "\n",
    "connection = pymongo.MongoClient(mongo_uri)\n",
    "vector_collection = connection['vectors']\n",
    "\n",
    "vector_collection.insert(transcript)\n"
   ]
  },
  {
   "cell_type": "markdown",
   "id": "f67b5244",
   "metadata": {},
   "source": [
    "### Run similarity search on \"bubble sort\" which returns the exact timestamp and video id "
   ]
  },
  {
   "cell_type": "code",
   "execution_count": null,
   "id": "dd5c2b47",
   "metadata": {},
   "outputs": [],
   "source": [
    "query = \"bubble sort\"                      \n",
    "vector_query = model.encode(query).tolist()\n",
    "\n",
    "pipeline = [\n",
    "    {\n",
    "        \"$search\": {\n",
    "            \"knnBeta\": {\n",
    "                \"vector\": vector_query,\n",
    "                \"path\": \"embedding\",\n",
    "                \"k\": 10\n",
    "            }\n",
    "        }\n",
    "    }\n",
    "]\n",
    "\n",
    "results = list(connection[database][collection].aggregate(pipeline))"
   ]
  }
 ],
 "metadata": {
  "kernelspec": {
   "display_name": "Python 3",
   "language": "python",
   "name": "python3"
  },
  "language_info": {
   "codemirror_mode": {
    "name": "ipython",
    "version": 3
   },
   "file_extension": ".py",
   "mimetype": "text/x-python",
   "name": "python",
   "nbconvert_exporter": "python",
   "pygments_lexer": "ipython3",
   "version": "3.9.13"
  }
 },
 "nbformat": 4,
 "nbformat_minor": 5
}
